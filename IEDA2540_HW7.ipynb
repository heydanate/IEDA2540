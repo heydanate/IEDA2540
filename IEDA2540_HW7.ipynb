{
  "nbformat": 4,
  "nbformat_minor": 0,
  "metadata": {
    "colab": {
      "provenance": []
    },
    "kernelspec": {
      "name": "python3",
      "display_name": "Python 3"
    },
    "language_info": {
      "name": "python"
    }
  },
  "cells": [
    {
      "cell_type": "code",
      "source": [
        "from google.colab import drive\n",
        "drive.mount(\"/content/drive\")"
      ],
      "metadata": {
        "colab": {
          "base_uri": "https://localhost:8080/"
        },
        "id": "awf6rq0evy1P",
        "outputId": "b5f444fb-7424-4185-dde6-8c34e852793e"
      },
      "execution_count": 18,
      "outputs": [
        {
          "output_type": "stream",
          "name": "stdout",
          "text": [
            "Drive already mounted at /content/drive; to attempt to forcibly remount, call drive.mount(\"/content/drive\", force_remount=True).\n"
          ]
        }
      ]
    },
    {
      "cell_type": "code",
      "source": [
        "%cd \"/content/drive/My Drive/Colab Notebooks/IEDA2540/\"\n",
        "%ls"
      ],
      "metadata": {
        "colab": {
          "base_uri": "https://localhost:8080/"
        },
        "id": "h9h5GgQGwCES",
        "outputId": "ac0279a9-6edb-4395-e26f-9dfb79456c53"
      },
      "execution_count": 2,
      "outputs": [
        {
          "output_type": "stream",
          "name": "stdout",
          "text": [
            "/content/drive/My Drive/Colab Notebooks/IEDA2540\n",
            "crop.csv\n"
          ]
        }
      ]
    },
    {
      "cell_type": "markdown",
      "source": [
        "### Task 1"
      ],
      "metadata": {
        "id": "S9faQyYXyOCC"
      }
    },
    {
      "cell_type": "code",
      "source": [
        "import pandas as pd\n",
        "from scipy.stats import f\n",
        "\n",
        "# Load the dataset\n",
        "df = pd.read_csv('crop.csv')\n",
        "df"
      ],
      "metadata": {
        "colab": {
          "base_uri": "https://localhost:8080/",
          "height": 424
        },
        "id": "c3hxTPblxZvK",
        "outputId": "8d5ad1ff-6091-41fc-a3b5-792ce8ea5536"
      },
      "execution_count": 3,
      "outputs": [
        {
          "output_type": "execute_result",
          "data": {
            "text/plain": [
              "    density  block  fertilizer       yield\n",
              "0         1      1           1  177.228692\n",
              "1         2      2           1  177.550041\n",
              "2         1      3           1  176.408462\n",
              "3         2      4           1  177.703625\n",
              "4         1      1           1  177.125486\n",
              "..      ...    ...         ...         ...\n",
              "91        2      4           3  177.405292\n",
              "92        1      1           3  178.141644\n",
              "93        2      2           3  177.710613\n",
              "94        1      3           3  177.687264\n",
              "95        2      4           3  177.118176\n",
              "\n",
              "[96 rows x 4 columns]"
            ],
            "text/html": [
              "\n",
              "  <div id=\"df-75fb1326-c1dd-49ae-8263-e8fc34a36602\">\n",
              "    <div class=\"colab-df-container\">\n",
              "      <div>\n",
              "<style scoped>\n",
              "    .dataframe tbody tr th:only-of-type {\n",
              "        vertical-align: middle;\n",
              "    }\n",
              "\n",
              "    .dataframe tbody tr th {\n",
              "        vertical-align: top;\n",
              "    }\n",
              "\n",
              "    .dataframe thead th {\n",
              "        text-align: right;\n",
              "    }\n",
              "</style>\n",
              "<table border=\"1\" class=\"dataframe\">\n",
              "  <thead>\n",
              "    <tr style=\"text-align: right;\">\n",
              "      <th></th>\n",
              "      <th>density</th>\n",
              "      <th>block</th>\n",
              "      <th>fertilizer</th>\n",
              "      <th>yield</th>\n",
              "    </tr>\n",
              "  </thead>\n",
              "  <tbody>\n",
              "    <tr>\n",
              "      <th>0</th>\n",
              "      <td>1</td>\n",
              "      <td>1</td>\n",
              "      <td>1</td>\n",
              "      <td>177.228692</td>\n",
              "    </tr>\n",
              "    <tr>\n",
              "      <th>1</th>\n",
              "      <td>2</td>\n",
              "      <td>2</td>\n",
              "      <td>1</td>\n",
              "      <td>177.550041</td>\n",
              "    </tr>\n",
              "    <tr>\n",
              "      <th>2</th>\n",
              "      <td>1</td>\n",
              "      <td>3</td>\n",
              "      <td>1</td>\n",
              "      <td>176.408462</td>\n",
              "    </tr>\n",
              "    <tr>\n",
              "      <th>3</th>\n",
              "      <td>2</td>\n",
              "      <td>4</td>\n",
              "      <td>1</td>\n",
              "      <td>177.703625</td>\n",
              "    </tr>\n",
              "    <tr>\n",
              "      <th>4</th>\n",
              "      <td>1</td>\n",
              "      <td>1</td>\n",
              "      <td>1</td>\n",
              "      <td>177.125486</td>\n",
              "    </tr>\n",
              "    <tr>\n",
              "      <th>...</th>\n",
              "      <td>...</td>\n",
              "      <td>...</td>\n",
              "      <td>...</td>\n",
              "      <td>...</td>\n",
              "    </tr>\n",
              "    <tr>\n",
              "      <th>91</th>\n",
              "      <td>2</td>\n",
              "      <td>4</td>\n",
              "      <td>3</td>\n",
              "      <td>177.405292</td>\n",
              "    </tr>\n",
              "    <tr>\n",
              "      <th>92</th>\n",
              "      <td>1</td>\n",
              "      <td>1</td>\n",
              "      <td>3</td>\n",
              "      <td>178.141644</td>\n",
              "    </tr>\n",
              "    <tr>\n",
              "      <th>93</th>\n",
              "      <td>2</td>\n",
              "      <td>2</td>\n",
              "      <td>3</td>\n",
              "      <td>177.710613</td>\n",
              "    </tr>\n",
              "    <tr>\n",
              "      <th>94</th>\n",
              "      <td>1</td>\n",
              "      <td>3</td>\n",
              "      <td>3</td>\n",
              "      <td>177.687264</td>\n",
              "    </tr>\n",
              "    <tr>\n",
              "      <th>95</th>\n",
              "      <td>2</td>\n",
              "      <td>4</td>\n",
              "      <td>3</td>\n",
              "      <td>177.118176</td>\n",
              "    </tr>\n",
              "  </tbody>\n",
              "</table>\n",
              "<p>96 rows × 4 columns</p>\n",
              "</div>\n",
              "      <button class=\"colab-df-convert\" onclick=\"convertToInteractive('df-75fb1326-c1dd-49ae-8263-e8fc34a36602')\"\n",
              "              title=\"Convert this dataframe to an interactive table.\"\n",
              "              style=\"display:none;\">\n",
              "        \n",
              "  <svg xmlns=\"http://www.w3.org/2000/svg\" height=\"24px\"viewBox=\"0 0 24 24\"\n",
              "       width=\"24px\">\n",
              "    <path d=\"M0 0h24v24H0V0z\" fill=\"none\"/>\n",
              "    <path d=\"M18.56 5.44l.94 2.06.94-2.06 2.06-.94-2.06-.94-.94-2.06-.94 2.06-2.06.94zm-11 1L8.5 8.5l.94-2.06 2.06-.94-2.06-.94L8.5 2.5l-.94 2.06-2.06.94zm10 10l.94 2.06.94-2.06 2.06-.94-2.06-.94-.94-2.06-.94 2.06-2.06.94z\"/><path d=\"M17.41 7.96l-1.37-1.37c-.4-.4-.92-.59-1.43-.59-.52 0-1.04.2-1.43.59L10.3 9.45l-7.72 7.72c-.78.78-.78 2.05 0 2.83L4 21.41c.39.39.9.59 1.41.59.51 0 1.02-.2 1.41-.59l7.78-7.78 2.81-2.81c.8-.78.8-2.07 0-2.86zM5.41 20L4 18.59l7.72-7.72 1.47 1.35L5.41 20z\"/>\n",
              "  </svg>\n",
              "      </button>\n",
              "      \n",
              "  <style>\n",
              "    .colab-df-container {\n",
              "      display:flex;\n",
              "      flex-wrap:wrap;\n",
              "      gap: 12px;\n",
              "    }\n",
              "\n",
              "    .colab-df-convert {\n",
              "      background-color: #E8F0FE;\n",
              "      border: none;\n",
              "      border-radius: 50%;\n",
              "      cursor: pointer;\n",
              "      display: none;\n",
              "      fill: #1967D2;\n",
              "      height: 32px;\n",
              "      padding: 0 0 0 0;\n",
              "      width: 32px;\n",
              "    }\n",
              "\n",
              "    .colab-df-convert:hover {\n",
              "      background-color: #E2EBFA;\n",
              "      box-shadow: 0px 1px 2px rgba(60, 64, 67, 0.3), 0px 1px 3px 1px rgba(60, 64, 67, 0.15);\n",
              "      fill: #174EA6;\n",
              "    }\n",
              "\n",
              "    [theme=dark] .colab-df-convert {\n",
              "      background-color: #3B4455;\n",
              "      fill: #D2E3FC;\n",
              "    }\n",
              "\n",
              "    [theme=dark] .colab-df-convert:hover {\n",
              "      background-color: #434B5C;\n",
              "      box-shadow: 0px 1px 3px 1px rgba(0, 0, 0, 0.15);\n",
              "      filter: drop-shadow(0px 1px 2px rgba(0, 0, 0, 0.3));\n",
              "      fill: #FFFFFF;\n",
              "    }\n",
              "  </style>\n",
              "\n",
              "      <script>\n",
              "        const buttonEl =\n",
              "          document.querySelector('#df-75fb1326-c1dd-49ae-8263-e8fc34a36602 button.colab-df-convert');\n",
              "        buttonEl.style.display =\n",
              "          google.colab.kernel.accessAllowed ? 'block' : 'none';\n",
              "\n",
              "        async function convertToInteractive(key) {\n",
              "          const element = document.querySelector('#df-75fb1326-c1dd-49ae-8263-e8fc34a36602');\n",
              "          const dataTable =\n",
              "            await google.colab.kernel.invokeFunction('convertToInteractive',\n",
              "                                                     [key], {});\n",
              "          if (!dataTable) return;\n",
              "\n",
              "          const docLinkHtml = 'Like what you see? Visit the ' +\n",
              "            '<a target=\"_blank\" href=https://colab.research.google.com/notebooks/data_table.ipynb>data table notebook</a>'\n",
              "            + ' to learn more about interactive tables.';\n",
              "          element.innerHTML = '';\n",
              "          dataTable['output_type'] = 'display_data';\n",
              "          await google.colab.output.renderOutput(dataTable, element);\n",
              "          const docLink = document.createElement('div');\n",
              "          docLink.innerHTML = docLinkHtml;\n",
              "          element.appendChild(docLink);\n",
              "        }\n",
              "      </script>\n",
              "    </div>\n",
              "  </div>\n",
              "  "
            ]
          },
          "metadata": {},
          "execution_count": 3
        }
      ]
    },
    {
      "cell_type": "code",
      "source": [
        "# Separate the data into two groups based on density level\n",
        "low_density = df[df['density'] == 1]['yield']\n",
        "high_density = df[df['density'] == 2]['yield']\n",
        "\n",
        "# Calculate the variances of each group\n",
        "var_low_density = low_density.var()\n",
        "var_high_density = high_density.var()\n",
        "\n",
        "# Calculate the F-statistic\n",
        "f_statistic = var_high_density / var_low_density\n",
        "\n",
        "print(var_low_density, var_high_density, f_statistic)"
      ],
      "metadata": {
        "colab": {
          "base_uri": "https://localhost:8080/"
        },
        "id": "WPHE_8FsxjJP",
        "outputId": "b67f5499-9c38-4bcd-f7a4-3afd7ce7d8d5"
      },
      "execution_count": 4,
      "outputs": [
        {
          "output_type": "stream",
          "name": "stdout",
          "text": [
            "0.3687499582954034 0.41492135114034545 1.2660988291545212\n"
          ]
        }
      ]
    },
    {
      "cell_type": "code",
      "source": [
        "# Calculate the degrees of freedom\n",
        "df1 = len(high_density) - 1  \n",
        "df2 = len(low_density) - 1\n",
        "\n",
        "# Calculate the p-value\n",
        "p_value = 1 - f.cdf(f_statistic, df1, df2)\n",
        "\n",
        "print(df1, df2, p_value)"
      ],
      "metadata": {
        "colab": {
          "base_uri": "https://localhost:8080/"
        },
        "id": "KOlsictex5TZ",
        "outputId": "20089afd-b86a-4b50-b0a9-450310721a30"
      },
      "execution_count": 5,
      "outputs": [
        {
          "output_type": "stream",
          "name": "stdout",
          "text": [
            "47 47 0.2108291398215989\n"
          ]
        }
      ]
    },
    {
      "cell_type": "code",
      "execution_count": 6,
      "metadata": {
        "colab": {
          "base_uri": "https://localhost:8080/"
        },
        "id": "7aAvuBUutbC_",
        "outputId": "806f3acf-abdb-4232-addf-0d8fc0f5ee1d"
      },
      "outputs": [
        {
          "output_type": "stream",
          "name": "stdout",
          "text": [
            "f statistic:  1.2660988291545212\n",
            "p-value:  0.2108291398215989\n",
            "Fail to reject the null hypothesis, there is no significant difference in variances between the two groups.\n"
          ]
        }
      ],
      "source": [
        "# Print the results\n",
        "print('f statistic: ', f_statistic)\n",
        "print('p-value: ', p_value)\n",
        "\n",
        "alpha = 0.05\n",
        "if p_value > alpha:\n",
        "    print(\"Fail to reject the null hypothesis, there is no significant difference in variances between the two groups.\")\n",
        "else:\n",
        "    print(\"Reject the null hypothesis, there is a significant difference in variances between the two groups.\")"
      ]
    },
    {
      "cell_type": "markdown",
      "source": [
        "### Task 2"
      ],
      "metadata": {
        "id": "17QhJtryyhAS"
      }
    },
    {
      "cell_type": "code",
      "source": [
        "import pandas as pd\n",
        "from scipy.stats import ttest_ind\n",
        "\n",
        "# Load the dataset\n",
        "crop_df = pd.read_csv(\"crop.csv\")\n",
        "\n",
        "# Split the dataset into two groups based on planting density\n",
        "low_density = crop_df[crop_df['density'] == 1]['yield']\n",
        "high_density = crop_df[crop_df['density'] == 2]['yield']\n",
        "\n",
        "# Perform a two-sample t-test\n",
        "t_stat, p_value = ttest_ind(low_density, high_density)\n",
        "\n",
        "# Print the results\n",
        "print(\"T-statistic: \", t_stat)\n",
        "print(\"p-value: \", p_value)\n",
        "\n",
        "if p_value < 0.05:\n",
        "    print(\"We reject the null hypothesis that the means are equal.\")\n",
        "else:\n",
        "    print(\"We fail to reject the null hypothesis that the means are equal.\")"
      ],
      "metadata": {
        "colab": {
          "base_uri": "https://localhost:8080/"
        },
        "id": "3cNL9kvm1m5m",
        "outputId": "094729ee-e6a2-4901-90b0-63b0bd375df0"
      },
      "execution_count": 7,
      "outputs": [
        {
          "output_type": "stream",
          "name": "stdout",
          "text": [
            "T-statistic:  -3.6153828803630663\n",
            "p-value:  0.00048451706997438567\n",
            "We reject the null hypothesis that the means are equal.\n"
          ]
        }
      ]
    },
    {
      "cell_type": "markdown",
      "source": [
        "### Task 3"
      ],
      "metadata": {
        "id": "i1YhKVkJ2iOt"
      }
    },
    {
      "cell_type": "code",
      "source": [
        "#Task 3 a)\n",
        "import pandas as pd\n",
        "import scipy.stats as stats\n",
        "import statsmodels.api as sm\n",
        "import seaborn as sns\n",
        "\n",
        "df = pd.read_csv('crop.csv')\n",
        "\n",
        "for f in [1, 2, 3]:\n",
        "    data = df[df['fertilizer'] == f]['yield']\n",
        "    sm.qqplot(data, line='s')\n",
        "\n",
        "for f in [1, 2, 3]:\n",
        "    data = df[df['fertilizer'] == f]['yield']\n",
        "    _, p_value = stats.normaltest(data)\n",
        "    print(f\"Fertilizer {f}: p-value for normality test = {p_value}\")"
      ],
      "metadata": {
        "colab": {
          "base_uri": "https://localhost:8080/",
          "height": 1000
        },
        "id": "wFylbuIp2j4h",
        "outputId": "73f38b7a-4346-4c42-e0a6-f83fd3616fbf"
      },
      "execution_count": 8,
      "outputs": [
        {
          "output_type": "stream",
          "name": "stdout",
          "text": [
            "Fertilizer 1: p-value for normality test = 0.8512424267132028\n",
            "Fertilizer 2: p-value for normality test = 0.9903737762394893\n",
            "Fertilizer 3: p-value for normality test = 0.22433307516500456\n"
          ]
        },
        {
          "output_type": "display_data",
          "data": {
            "text/plain": [
              "<Figure size 640x480 with 1 Axes>"
            ],
            "image/png": "[encoded data removed]"
          },
          "metadata": {}
        },
        {
          "output_type": "display_data",
          "data": {
            "text/plain": [
              "<Figure size 640x480 with 1 Axes>"
            ],
            "image/png": "[encoded data removed]"
          },
          "metadata": {}
        },
        {
          "output_type": "display_data",
          "data": {
            "text/plain": [
              "<Figure size 640x480 with 1 Axes>"
            ],
            "image/png": "[encoded data removed]"
          },
          "metadata": {}
        }
      ]
    },
    {
      "cell_type": "code",
      "source": [
        "# Task 3 b)\n",
        "sns.boxplot(x='fertilizer', y='yield', data=df)"
      ],
      "metadata": {
        "colab": {
          "base_uri": "https://localhost:8080/",
          "height": 466
        },
        "id": "fmiZLhdP361R",
        "outputId": "6a4ea237-70bc-4c62-c940-2e79a98432ab"
      },
      "execution_count": 9,
      "outputs": [
        {
          "output_type": "execute_result",
          "data": {
            "text/plain": [
              "<Axes: xlabel='fertilizer', ylabel='yield'>"
            ]
          },
          "metadata": {},
          "execution_count": 9
        },
        {
          "output_type": "display_data",
          "data": {
            "text/plain": [
              "<Figure size 640x480 with 1 Axes>"
            ],
            "image/png": "[encoded data removed]"
          },
          "metadata": {}
        }
      ]
    },
    {
      "cell_type": "code",
      "source": [
        "# Task 3 c)\n",
        "data1 = df[df['fertilizer'] == 1]['yield']\n",
        "data2 = df[df['fertilizer'] == 2]['yield']\n",
        "data3 = df[df['fertilizer'] == 3]['yield']\n",
        "_, p_value = stats.bartlett(data1, data2, data3)\n",
        "print(f\"p-value for Bartlett's test = {p_value}\")"
      ],
      "metadata": {
        "colab": {
          "base_uri": "https://localhost:8080/"
        },
        "id": "VjK18E1sAlfh",
        "outputId": "c94da760-ea35-4413-c017-e7a96ad805dd"
      },
      "execution_count": 20,
      "outputs": [
        {
          "output_type": "stream",
          "name": "stdout",
          "text": [
            "p-value for Bartlett's test = 0.5879451367215631\n"
          ]
        }
      ]
    },
    {
      "cell_type": "code",
      "source": [
        "#Task 3 d)\n",
        "anova_test = stats.f_oneway(df['yield'].loc[df['fertilizer'] == 1], df['yield'].loc[df['fertilizer'] == 2], df['yield'].loc[df['fertilizer'] == 3])\n",
        "print(anova_test)"
      ],
      "metadata": {
        "colab": {
          "base_uri": "https://localhost:8080/"
        },
        "id": "G6FYaPw2Ap04",
        "outputId": "5e7e4c4e-cfa9-4a4d-976e-9cba5ee24a77"
      },
      "execution_count": 12,
      "outputs": [
        {
          "output_type": "stream",
          "name": "stdout",
          "text": [
            "F_onewayResult(statistic=7.862751645215487, pvalue=0.0006999157502874401)\n"
          ]
        }
      ]
    },
    {
      "cell_type": "code",
      "source": [
        "# Task 3 e)\n",
        "print(stats.ttest_ind(data1, data2, equal_var=True))\n",
        "print(stats.ttest_ind(data2, data3, equal_var=True))\n",
        "print(stats.ttest_ind(data1, data3, equal_var=True))"
      ],
      "metadata": {
        "colab": {
          "base_uri": "https://localhost:8080/"
        },
        "id": "VqykyGyXZt0-",
        "outputId": "282619b3-600b-4025-c581-bba0e8c7158d"
      },
      "execution_count": 23,
      "outputs": [
        {
          "output_type": "stream",
          "name": "stdout",
          "text": [
            "Ttest_indResult(statistic=-1.1151144203063068, pvalue=0.26910515103133803)\n",
            "Ttest_indResult(statistic=-2.8834962237133284, pvalue=0.005400051057378574)\n",
            "Ttest_indResult(statistic=-3.7244341523148, pvalue=0.00042491974838636016)\n"
          ]
        }
      ]
    },
    {
      "cell_type": "code",
      "source": [
        "0.05/6"
      ],
      "metadata": {
        "colab": {
          "base_uri": "https://localhost:8080/"
        },
        "id": "we0Hrd4eZ3l3",
        "outputId": "fc6ed9a0-215b-4b5a-cd98-ddcc732f2a2e"
      },
      "execution_count": 24,
      "outputs": [
        {
          "output_type": "execute_result",
          "data": {
            "text/plain": [
              "0.008333333333333333"
            ]
          },
          "metadata": {},
          "execution_count": 24
        }
      ]
    },
    {
      "cell_type": "code",
      "source": [
        "# Task 3 f)\n",
        "hsd = stats.tukey_hsd(data1, data2, data3)\n",
        "print(hsd)"
      ],
      "metadata": {
        "colab": {
          "base_uri": "https://localhost:8080/"
        },
        "id": "2RIGAHOYZxBL",
        "outputId": "ef7774ca-1107-4f9b-e1f2-bebb18b61682"
      },
      "execution_count": 25,
      "outputs": [
        {
          "output_type": "stream",
          "name": "stdout",
          "text": [
            "Tukey's HSD Pairwise Group Comparisons (95.0% Confidence Interval)\n",
            "Comparison  Statistic  p-value  Lower CI  Upper CI\n",
            " (0 - 1)     -0.176     0.495    -0.546     0.194\n",
            " (0 - 2)     -0.599     0.001    -0.969    -0.229\n",
            " (1 - 0)      0.176     0.495    -0.194     0.546\n",
            " (1 - 2)     -0.423     0.021    -0.793    -0.053\n",
            " (2 - 0)      0.599     0.001     0.229     0.969\n",
            " (2 - 1)      0.423     0.021     0.053     0.793\n",
            "\n"
          ]
        }
      ]
    }
  ]
}