{
 "cells": [
  {
   "cell_type": "code",
   "execution_count": 1,
   "id": "10d6fca2",
   "metadata": {},
   "outputs": [],
   "source": [
    "import numpy as np\n",
    "import pandas as pd\n",
    "import matplotlib.pyplot as plt\n",
    "from scipy import stats"
   ]
  },
  {
   "cell_type": "code",
   "execution_count": 2,
   "id": "50450a90",
   "metadata": {},
   "outputs": [
    {
     "data": {
      "text/html": [
       "<div>\n",
       "<style scoped>\n",
       "    .dataframe tbody tr th:only-of-type {\n",
       "        vertical-align: middle;\n",
       "    }\n",
       "\n",
       "    .dataframe tbody tr th {\n",
       "        vertical-align: top;\n",
       "    }\n",
       "\n",
       "    .dataframe thead th {\n",
       "        text-align: right;\n",
       "    }\n",
       "</style>\n",
       "<table border=\"1\" class=\"dataframe\">\n",
       "  <thead>\n",
       "    <tr style=\"text-align: right;\">\n",
       "      <th></th>\n",
       "      <th>density</th>\n",
       "      <th>block</th>\n",
       "      <th>fertilizer</th>\n",
       "      <th>yield</th>\n",
       "    </tr>\n",
       "  </thead>\n",
       "  <tbody>\n",
       "    <tr>\n",
       "      <th>0</th>\n",
       "      <td>1</td>\n",
       "      <td>1</td>\n",
       "      <td>1</td>\n",
       "      <td>177.228692</td>\n",
       "    </tr>\n",
       "    <tr>\n",
       "      <th>1</th>\n",
       "      <td>2</td>\n",
       "      <td>2</td>\n",
       "      <td>1</td>\n",
       "      <td>177.550041</td>\n",
       "    </tr>\n",
       "    <tr>\n",
       "      <th>2</th>\n",
       "      <td>1</td>\n",
       "      <td>3</td>\n",
       "      <td>1</td>\n",
       "      <td>176.408462</td>\n",
       "    </tr>\n",
       "    <tr>\n",
       "      <th>3</th>\n",
       "      <td>2</td>\n",
       "      <td>4</td>\n",
       "      <td>1</td>\n",
       "      <td>177.703625</td>\n",
       "    </tr>\n",
       "    <tr>\n",
       "      <th>4</th>\n",
       "      <td>1</td>\n",
       "      <td>1</td>\n",
       "      <td>1</td>\n",
       "      <td>177.125486</td>\n",
       "    </tr>\n",
       "  </tbody>\n",
       "</table>\n",
       "</div>"
      ],
      "text/plain": [
       "   density  block  fertilizer       yield\n",
       "0        1      1           1  177.228692\n",
       "1        2      2           1  177.550041\n",
       "2        1      3           1  176.408462\n",
       "3        2      4           1  177.703625\n",
       "4        1      1           1  177.125486"
      ]
     },
     "execution_count": 2,
     "metadata": {},
     "output_type": "execute_result"
    }
   ],
   "source": [
    "data = pd.read_csv('crop.csv')\n",
    "data.head()"
   ]
  },
  {
   "cell_type": "code",
   "execution_count": 3,
   "id": "c3c75c70",
   "metadata": {},
   "outputs": [
    {
     "data": {
      "text/html": [
       "<div>\n",
       "<style scoped>\n",
       "    .dataframe tbody tr th:only-of-type {\n",
       "        vertical-align: middle;\n",
       "    }\n",
       "\n",
       "    .dataframe tbody tr th {\n",
       "        vertical-align: top;\n",
       "    }\n",
       "\n",
       "    .dataframe thead th {\n",
       "        text-align: right;\n",
       "    }\n",
       "</style>\n",
       "<table border=\"1\" class=\"dataframe\">\n",
       "  <thead>\n",
       "    <tr style=\"text-align: right;\">\n",
       "      <th></th>\n",
       "      <th>density</th>\n",
       "      <th>block</th>\n",
       "      <th>fertilizer</th>\n",
       "      <th>yield</th>\n",
       "    </tr>\n",
       "  </thead>\n",
       "  <tbody>\n",
       "    <tr>\n",
       "      <th>count</th>\n",
       "      <td>96.000000</td>\n",
       "      <td>96.000000</td>\n",
       "      <td>96.000000</td>\n",
       "      <td>96.000000</td>\n",
       "    </tr>\n",
       "    <tr>\n",
       "      <th>mean</th>\n",
       "      <td>1.500000</td>\n",
       "      <td>2.500000</td>\n",
       "      <td>2.000000</td>\n",
       "      <td>177.015476</td>\n",
       "    </tr>\n",
       "    <tr>\n",
       "      <th>std</th>\n",
       "      <td>0.502625</td>\n",
       "      <td>1.123903</td>\n",
       "      <td>0.820783</td>\n",
       "      <td>0.664548</td>\n",
       "    </tr>\n",
       "    <tr>\n",
       "      <th>min</th>\n",
       "      <td>1.000000</td>\n",
       "      <td>1.000000</td>\n",
       "      <td>1.000000</td>\n",
       "      <td>175.360840</td>\n",
       "    </tr>\n",
       "    <tr>\n",
       "      <th>25%</th>\n",
       "      <td>1.000000</td>\n",
       "      <td>1.750000</td>\n",
       "      <td>1.000000</td>\n",
       "      <td>176.468696</td>\n",
       "    </tr>\n",
       "    <tr>\n",
       "      <th>50%</th>\n",
       "      <td>1.500000</td>\n",
       "      <td>2.500000</td>\n",
       "      <td>2.000000</td>\n",
       "      <td>177.058105</td>\n",
       "    </tr>\n",
       "    <tr>\n",
       "      <th>75%</th>\n",
       "      <td>2.000000</td>\n",
       "      <td>3.250000</td>\n",
       "      <td>3.000000</td>\n",
       "      <td>177.398571</td>\n",
       "    </tr>\n",
       "    <tr>\n",
       "      <th>max</th>\n",
       "      <td>2.000000</td>\n",
       "      <td>4.000000</td>\n",
       "      <td>3.000000</td>\n",
       "      <td>179.060899</td>\n",
       "    </tr>\n",
       "  </tbody>\n",
       "</table>\n",
       "</div>"
      ],
      "text/plain": [
       "         density      block  fertilizer       yield\n",
       "count  96.000000  96.000000   96.000000   96.000000\n",
       "mean    1.500000   2.500000    2.000000  177.015476\n",
       "std     0.502625   1.123903    0.820783    0.664548\n",
       "min     1.000000   1.000000    1.000000  175.360840\n",
       "25%     1.000000   1.750000    1.000000  176.468696\n",
       "50%     1.500000   2.500000    2.000000  177.058105\n",
       "75%     2.000000   3.250000    3.000000  177.398571\n",
       "max     2.000000   4.000000    3.000000  179.060899"
      ]
     },
     "execution_count": 3,
     "metadata": {},
     "output_type": "execute_result"
    }
   ],
   "source": [
    "data.describe()"
   ]
  },
  {
   "cell_type": "markdown",
   "id": "fc6298fc",
   "metadata": {},
   "source": [
    "# Q1"
   ]
  },
  {
   "cell_type": "code",
   "execution_count": 4,
   "id": "de182abc",
   "metadata": {},
   "outputs": [],
   "source": [
    "# extract the 'yield' data of different types.\n",
    "density_1 = data['yield'][data.density==1]\n",
    "density_2 = data['yield'][data.density==2]"
   ]
  },
  {
   "cell_type": "code",
   "execution_count": 5,
   "id": "e89e1eb8",
   "metadata": {},
   "outputs": [
    {
     "data": {
      "text/plain": [
       "(0.8887225429155494, 0.3437976926678219)"
      ]
     },
     "execution_count": 5,
     "metadata": {},
     "output_type": "execute_result"
    }
   ],
   "source": [
    "# perform two sample F-test as follows\n",
    "ddof_1 = len(density_1) - 1\n",
    "ddof_2 = len(density_2) - 1\n",
    "test_stats = np.var(density_1, ddof=1)/np.var(density_2, ddof=1)\n",
    "pvalue = stats.f.cdf(test_stats, ddof_1, ddof_2)\n",
    "\n",
    "test_stats, pvalue"
   ]
  },
  {
   "cell_type": "markdown",
   "id": "b08d8a5c",
   "metadata": {},
   "source": [
    "The p-value obtained is greater than the significance level $\\alpha=0.05$, thus we fail to reject the null hypothesis.\n",
    "\n",
    "We thus consider the two types of density result in the same variance of yield at significance level 0.05"
   ]
  },
  {
   "cell_type": "markdown",
   "id": "e13ea903",
   "metadata": {},
   "source": [
    "# Q2"
   ]
  },
  {
   "cell_type": "markdown",
   "id": "e0522f2b",
   "metadata": {},
   "source": [
    "We perform a two-sample T-test for unknown but equal variance populations."
   ]
  },
  {
   "cell_type": "code",
   "execution_count": 6,
   "id": "15751852",
   "metadata": {},
   "outputs": [
    {
     "data": {
      "text/plain": [
       "Ttest_indResult(statistic=-3.6153828803630663, pvalue=0.00048451706997438567)"
      ]
     },
     "execution_count": 6,
     "metadata": {},
     "output_type": "execute_result"
    }
   ],
   "source": [
    "stats.ttest_ind(density_1, density_2, equal_var=True)"
   ]
  },
  {
   "cell_type": "markdown",
   "id": "c2b9393a",
   "metadata": {},
   "source": [
    "The p-value is smaller than 0.05. Thus we reject the null hypothesis and consider the mean are different."
   ]
  },
  {
   "cell_type": "markdown",
   "id": "a60511c5",
   "metadata": {},
   "source": [
    "# Q3"
   ]
  },
  {
   "cell_type": "markdown",
   "id": "05aff0e5",
   "metadata": {},
   "source": [
    "## (a)"
   ]
  },
  {
   "cell_type": "code",
   "execution_count": 7,
   "id": "2d6ead31",
   "metadata": {},
   "outputs": [],
   "source": [
    "fertilizer_1 = data['yield'][data.fertilizer==1]\n",
    "fertilizer_2 = data['yield'][data.fertilizer==2]\n",
    "fertilizer_3 = data['yield'][data.fertilizer==3]"
   ]
  },
  {
   "cell_type": "code",
   "execution_count": 8,
   "id": "2125c2d9",
   "metadata": {},
   "outputs": [
    {
     "data": {
      "image/png": "[encoded data removed]",
      "text/plain": [
       "<Figure size 432x288 with 1 Axes>"
      ]
     },
     "metadata": {
      "needs_background": "light"
     },
     "output_type": "display_data"
    },
    {
     "data": {
      "image/png": "[encoded data removed]",
      "text/plain": [
       "<Figure size 432x288 with 1 Axes>"
      ]
     },
     "metadata": {
      "needs_background": "light"
     },
     "output_type": "display_data"
    },
    {
     "data": {
      "image/png": "[encoded data removed]",
      "text/plain": [
       "<Figure size 432x288 with 1 Axes>"
      ]
     },
     "metadata": {
      "needs_background": "light"
     },
     "output_type": "display_data"
    }
   ],
   "source": [
    "stats.probplot(fertilizer_1,dist='norm',plot=plt)\n",
    "plt.show()\n",
    "stats.probplot(fertilizer_2,dist='norm',plot=plt)\n",
    "plt.show()\n",
    "stats.probplot(fertilizer_3,dist='norm',plot=plt)\n",
    "plt.show()"
   ]
  },
  {
   "cell_type": "markdown",
   "id": "49419c9f",
   "metadata": {},
   "source": [
    "## (b)"
   ]
  },
  {
   "cell_type": "code",
   "execution_count": 9,
   "id": "5f378182",
   "metadata": {},
   "outputs": [
    {
     "data": {
      "image/png": "[encoded data removed]",
      "text/plain": [
       "<Figure size 432x288 with 1 Axes>"
      ]
     },
     "metadata": {
      "needs_background": "light"
     },
     "output_type": "display_data"
    }
   ],
   "source": [
    "fig, ax = plt.subplots(1, 1)\n",
    "ax.boxplot([fertilizer_1, fertilizer_2, fertilizer_3])\n",
    "ax.set_xticklabels([\"1\", \"2\", \"3\"]) \n",
    "ax.set_ylabel(\"fertilizer mean\") \n",
    "plt.show()"
   ]
  },
  {
   "cell_type": "markdown",
   "id": "f0981de3",
   "metadata": {},
   "source": [
    "## (c)"
   ]
  },
  {
   "cell_type": "code",
   "execution_count": 10,
   "id": "2dbfcc69",
   "metadata": {},
   "outputs": [
    {
     "data": {
      "text/plain": [
       "BartlettResult(statistic=1.0622432806639672, pvalue=0.5879451367215631)"
      ]
     },
     "execution_count": 10,
     "metadata": {},
     "output_type": "execute_result"
    }
   ],
   "source": [
    "stats.bartlett(fertilizer_1, fertilizer_2, fertilizer_3)"
   ]
  },
  {
   "cell_type": "markdown",
   "id": "2b9e5a2e",
   "metadata": {},
   "source": [
    "The pvalue is very large compared with commonly small significance level, say 0.05, 0.01.\n",
    "Thus we cannot reject the null hypothesis and consider them having the same variance."
   ]
  },
  {
   "cell_type": "markdown",
   "id": "b5f631e3",
   "metadata": {},
   "source": [
    "## (d)"
   ]
  },
  {
   "cell_type": "code",
   "execution_count": 11,
   "id": "21d99c6b",
   "metadata": {},
   "outputs": [
    {
     "data": {
      "text/plain": [
       "F_onewayResult(statistic=7.862751645215487, pvalue=0.0006999157502874401)"
      ]
     },
     "execution_count": 11,
     "metadata": {},
     "output_type": "execute_result"
    }
   ],
   "source": [
    "stats.f_oneway(fertilizer_1, fertilizer_2, fertilizer_3)"
   ]
  },
  {
   "cell_type": "markdown",
   "id": "a17db3b8",
   "metadata": {},
   "source": [
    "At a significance level 0.001, we reject the null hypothesis and consider the means are not the same."
   ]
  },
  {
   "cell_type": "markdown",
   "id": "38494630",
   "metadata": {},
   "source": [
    "## (e)"
   ]
  },
  {
   "cell_type": "code",
   "execution_count": 12,
   "id": "15d48bc6",
   "metadata": {},
   "outputs": [
    {
     "name": "stdout",
     "output_type": "stream",
     "text": [
      "Ttest_indResult(statistic=-1.1151144203063066, pvalue=0.2691051510313381)\n",
      "Ttest_indResult(statistic=-2.8834962237133284, pvalue=0.005400051057378574)\n",
      "Ttest_indResult(statistic=-3.7244341523148, pvalue=0.00042491974838636016)\n"
     ]
    }
   ],
   "source": [
    "print(stats.ttest_ind(fertilizer_1, fertilizer_2, equal_var=True))\n",
    "print(stats.ttest_ind(fertilizer_2, fertilizer_3, equal_var=True))\n",
    "print(stats.ttest_ind(fertilizer_1, fertilizer_3, equal_var=True))"
   ]
  },
  {
   "cell_type": "code",
   "execution_count": 13,
   "id": "ca0b9d3f",
   "metadata": {},
   "outputs": [
    {
     "data": {
      "text/plain": [
       "0.008333333333333333"
      ]
     },
     "execution_count": 13,
     "metadata": {},
     "output_type": "execute_result"
    }
   ],
   "source": [
    "0.05/6"
   ]
  },
  {
   "cell_type": "markdown",
   "id": "9ad28824",
   "metadata": {},
   "source": [
    "If we specify $\\alpha=0.05$, by the Bonferonni adjustment, we scale it by $0.05/6=0.0083$"
   ]
  },
  {
   "cell_type": "markdown",
   "id": "ed939e2f",
   "metadata": {},
   "source": [
    "Based on the pvalue we obtained, we consider the means of fertilizer_1 and fertilizer_2 are the same, which is different from fertilizer_3."
   ]
  },
  {
   "cell_type": "markdown",
   "id": "b2ec7685",
   "metadata": {},
   "source": [
    "## (f)"
   ]
  },
  {
   "cell_type": "code",
   "execution_count": 14,
   "id": "8e1a7289",
   "metadata": {},
   "outputs": [
    {
     "name": "stdout",
     "output_type": "stream",
     "text": [
      "Tukey's HSD Pairwise Group Comparisons (95.0% Confidence Interval)\n",
      "Comparison  Statistic  p-value  Lower CI  Upper CI\n",
      " (0 - 1)     -0.176     0.495    -0.546     0.194\n",
      " (0 - 2)     -0.599     0.001    -0.969    -0.229\n",
      " (1 - 0)      0.176     0.495    -0.194     0.546\n",
      " (1 - 2)     -0.423     0.021    -0.793    -0.053\n",
      " (2 - 0)      0.599     0.001     0.229     0.969\n",
      " (2 - 1)      0.423     0.021     0.053     0.793\n",
      "\n"
     ]
    }
   ],
   "source": [
    "res = stats.tukey_hsd(fertilizer_1, fertilizer_2, fertilizer_3)\n",
    "print(res)"
   ]
  },
  {
   "cell_type": "code",
   "execution_count": null,
   "id": "da1de03c",
   "metadata": {},
   "outputs": [],
   "source": []
  }
 ],
 "metadata": {
  "kernelspec": {
   "display_name": "Python 3 (ipykernel)",
   "language": "python",
   "name": "python3"
  },
  "language_info": {
   "codemirror_mode": {
    "name": "ipython",
    "version": 3
   },
   "file_extension": ".py",
   "mimetype": "text/x-python",
   "name": "python",
   "nbconvert_exporter": "python",
   "pygments_lexer": "ipython3",
   "version": "3.9.13"
  }
 },
 "nbformat": 4,
 "nbformat_minor": 5
}
